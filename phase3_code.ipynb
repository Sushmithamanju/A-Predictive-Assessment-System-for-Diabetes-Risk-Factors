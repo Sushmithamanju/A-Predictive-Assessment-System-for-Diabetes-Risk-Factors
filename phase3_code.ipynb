{
 "cells": [
  {
   "cell_type": "code",
   "execution_count": 1,
   "id": "e58f100d",
   "metadata": {},
   "outputs": [
    {
     "name": "stdout",
     "output_type": "stream",
     "text": [
      "+---+------+--------+---------+---+----------+--------------------+------------+------------+------------+-----------------+---------+--------+--------+--------+------+------+----------------+--------+\n",
      "|Age|   Sex|HighChol|CholCheck|BMI|    Smoker|HeartDiseaseorAttack|PhysActivity|      Fruits|     Veggies|HvyAlcoholConsump|  GenHlth|MentHlth|PhysHlth|DiffWalk|Stroke|HighBP|SugarConsumption|Diabetes|\n",
      "+---+------+--------+---------+---+----------+--------------------+------------+------------+------------+-----------------+---------+--------+--------+--------+------+------+----------------+--------+\n",
      "|  4|  Male|       0|        1| 26|Non Smoker|                   0|           1|Does not Eat|         Eat|                0|     good|       5|      30|      No|    No|     1|            High|      No|\n",
      "| 12|  Male|       1|        1| 26|    Smoker|                   0|           0|         Eat|Does not Eat|                0|     good|       0|       0|      No|   Yes|     1|            High|      No|\n",
      "| 13|  Male|       0|        1| 26|Non Smoker|                   0|           1|         Eat|          No|                0|excellent|       0|      10|      No|    No|     0|            High|      No|\n",
      "| 11|  Male|       1|        1| 28|    Smoker|                   0|           1|         Eat|         Eat|                0|     good|       0|       3|      No|    No|     1|            High|      No|\n",
      "|  8|Female|       0|        1| 29|    Smoker|                   0|           1|         Eat|         Eat|                0|very good|       0|       0|      No|    No|     0|            High|      No|\n",
      "+---+------+--------+---------+---+----------+--------------------+------------+------------+------------+-----------------+---------+--------+--------+--------+------+------+----------------+--------+\n",
      "only showing top 5 rows\n",
      "\n"
     ]
    }
   ],
   "source": [
    "from pyspark.sql import SparkSession\n",
    "from pyspark.sql import functions as F\n",
    "from pyspark.ml.feature import StringIndexer\n",
    "from pyspark.sql.types import StringType\n",
    "from pyspark.sql.window import Window\n",
    "\n",
    "\n",
    "# Initialize SparkSession\n",
    "spark = SparkSession.builder.appName(\"Data Preprocessing\").getOrCreate()\n",
    "\n",
    "# Reading the CSV file into a PySpark DataFrame\n",
    "data = spark.read.csv(\"impure_dataset_final.csv\", header=True, inferSchema=True)\n",
    "\n",
    "# Displaying the first 5 rows\n",
    "data.show(5)\n"
   ]
  },
  {
   "cell_type": "code",
   "execution_count": 2,
   "id": "f51bd02c",
   "metadata": {},
   "outputs": [
    {
     "name": "stdout",
     "output_type": "stream",
     "text": [
      "Number of rows: 70707, Number of columns: 19\n"
     ]
    }
   ],
   "source": [
    "# Displaying number of rows and columns in the PySpark DataFrame\n",
    "num_rows = data.count()\n",
    "num_columns = len(data.columns)\n",
    "\n",
    "print(f\"Number of rows: {num_rows}, Number of columns: {num_columns}\")\n"
   ]
  },
  {
   "cell_type": "code",
   "execution_count": 3,
   "id": "910b967a",
   "metadata": {},
   "outputs": [
    {
     "name": "stdout",
     "output_type": "stream",
     "text": [
      "Number of rows in the dataset are: 70707\n",
      "Number of columns in the dataset are: 19\n",
      "Names of the columns: ['Age', 'Sex', 'HighChol', 'CholCheck', 'BMI', 'Smoker', 'HeartDiseaseorAttack', 'PhysActivity', 'Fruits', 'Veggies', 'HvyAlcoholConsump', 'GenHlth', 'MentHlth', 'PhysHlth', 'DiffWalk', 'Stroke', 'HighBP', 'SugarConsumption', 'Diabetes']\n"
     ]
    }
   ],
   "source": [
    "# Creating a dictionary to store key information about the dataset\n",
    "dataset_info = {\n",
    "    \"Number of rows in the dataset are\": data.count(), \n",
    "    \"Number of columns in the dataset are\": len(data.columns), \n",
    "    \"Names of the columns\": data.columns  \n",
    "}\n",
    "\n",
    "for key, value in dataset_info.items():\n",
    "    print(f\"{key}: {value}\")\n"
   ]
  },
  {
   "cell_type": "code",
   "execution_count": 4,
   "id": "c1c971c4",
   "metadata": {},
   "outputs": [
    {
     "name": "stdout",
     "output_type": "stream",
     "text": [
      "+-------+------------------+-----+------------------+-------------------+------------------+----------+--------------------+-------------------+------------+------------+-------------------+---------+-----------------+------------------+--------+------+-------------------+----------------+--------+\n",
      "|summary|               Age|  Sex|          HighChol|          CholCheck|               BMI|    Smoker|HeartDiseaseorAttack|       PhysActivity|      Fruits|     Veggies|  HvyAlcoholConsump|  GenHlth|         MentHlth|          PhysHlth|DiffWalk|Stroke|             HighBP|SugarConsumption|Diabetes|\n",
      "+-------+------------------+-----+------------------+-------------------+------------------+----------+--------------------+-------------------+------------+------------+-------------------+---------+-----------------+------------------+--------+------+-------------------+----------------+--------+\n",
      "|  count|             70707|70707|             70707|              70707|             69713|     69693|               70707|              70511|       70474|       70492|              69775|    69717|            69759|             69743|   70480| 70707|              70707|           70707|   70707|\n",
      "|   mean| 8.581116438259295| NULL|0.5257470971756686|  0.975264118121261|29.853689330138735|      NULL| 0.14787786216357646| 0.7031243352101091|        NULL|        NULL|0.04280902902185597|     NULL|3.760446680715033|  5.81071935534749|    NULL|  NULL| 0.5634661348947063|            NULL|    NULL|\n",
      "| stddev|2.8646957716120953| NULL|0.4993401780141743|0.15532018289368316| 7.112100872491816|      NULL|   0.354981382911727|0.45688452029342147|        NULL|        NULL|0.20242777311793866|     NULL|8.165617581068352|10.060228641175234|    NULL|  NULL|0.49595920046085135|            NULL|    NULL|\n",
      "|    min|               -31|    F|                 0|                  0|                12|Non Smoker|                   0|                  0|Does not Eat|Does not Eat|                  0|excellent|                0|                 0|       N|     N|                  0|            High|      No|\n",
      "|    max|                13| Male|                 1|                  1|                98|    Smoker|                   1|                  1|         Yes|         Yes|                  1|very good|               30|                30|     Yes|   Yes|                  1|             Low|     Yes|\n",
      "+-------+------------------+-----+------------------+-------------------+------------------+----------+--------------------+-------------------+------------+------------+-------------------+---------+-----------------+------------------+--------+------+-------------------+----------------+--------+\n",
      "\n"
     ]
    }
   ],
   "source": [
    "# Printing summary statistics for numeric columns\n",
    "data.describe().show()\n"
   ]
  },
  {
   "cell_type": "code",
   "execution_count": 5,
   "id": "6c5d0302",
   "metadata": {},
   "outputs": [
    {
     "name": "stdout",
     "output_type": "stream",
     "text": [
      "Number of duplicated rows in the dataset: 5554\n",
      "Number of rows before removing duplicates: 70707\n",
      "Number of rows after removing duplicates: 65153\n"
     ]
    }
   ],
   "source": [
    "# Step 1: Counting duplicate rows\n",
    "# Counting the number of rows before removing duplicates\n",
    "num_rows_before = data.count()\n",
    "\n",
    "# Counting the number of unique rows (after dropping duplicates)\n",
    "num_unique_rows = data.dropDuplicates().count()\n",
    "\n",
    "# Calculating the number of duplicate rows\n",
    "num_duplicates = num_rows_before - num_unique_rows\n",
    "\n",
    "# Removing duplicate rows\n",
    "data = data.dropDuplicates()\n",
    "\n",
    "# Counting the number of rows after removing duplicates\n",
    "num_rows_after = data.count()\n",
    "\n",
    "# Printing the results\n",
    "print(f\"Number of duplicated rows in the dataset: {num_duplicates}\")\n",
    "print(f\"Number of rows before removing duplicates: {num_rows_before}\")\n",
    "print(f\"Number of rows after removing duplicates: {num_rows_after}\")\n"
   ]
  },
  {
   "cell_type": "code",
   "execution_count": 6,
   "id": "a87d3d93",
   "metadata": {},
   "outputs": [
    {
     "name": "stdout",
     "output_type": "stream",
     "text": [
      "+-----+-----+--------+---------+-----+------+--------------------+------------+------+-------+-----------------+-------+--------+--------+--------+------+------+----------------+--------+\n",
      "|  Age|  Sex|HighChol|CholCheck|  BMI|Smoker|HeartDiseaseorAttack|PhysActivity|Fruits|Veggies|HvyAlcoholConsump|GenHlth|MentHlth|PhysHlth|DiffWalk|Stroke|HighBP|SugarConsumption|Diabetes|\n",
      "+-----+-----+--------+---------+-----+------+--------------------+------------+------+-------+-----------------+-------+--------+--------+--------+------+------+----------------+--------+\n",
      "|65153|65153|   65153|    65153|64166| 64140|               65153|       64957| 64921|  64938|            64221|  64164|   64206|   64189|   64926| 65153| 65153|           65153|   65153|\n",
      "+-----+-----+--------+---------+-----+------+--------------------+------------+------+-------+-----------------+-------+--------+--------+--------+------+------+----------------+--------+\n",
      "\n",
      "+---+---+--------+---------+---+------+--------------------+------------+------+-------+-----------------+-------+--------+--------+--------+------+------+----------------+--------+\n",
      "|Age|Sex|HighChol|CholCheck|BMI|Smoker|HeartDiseaseorAttack|PhysActivity|Fruits|Veggies|HvyAlcoholConsump|GenHlth|MentHlth|PhysHlth|DiffWalk|Stroke|HighBP|SugarConsumption|Diabetes|\n",
      "+---+---+--------+---------+---+------+--------------------+------------+------+-------+-----------------+-------+--------+--------+--------+------+------+----------------+--------+\n",
      "|  0|  0|       0|        0|987|  1013|                   0|         196|   232|    215|              932|    989|     947|     964|     227|     0|     0|               0|       0|\n",
      "+---+---+--------+---------+---+------+--------------------+------------+------+-------+-----------------+-------+--------+--------+--------+------+------+----------------+--------+\n",
      "\n"
     ]
    }
   ],
   "source": [
    "# Step 2: Remove missing values\n",
    "#Calculate the number of non-null values in each column\n",
    "non_null_counts = data.select([F.sum(F.when(F.col(column).isNotNull(), 1).otherwise(0)).alias(column) \n",
    "                               for column in data.columns])\n",
    "\n",
    "# Showing the non-null counts per column\n",
    "non_null_counts.show()\n",
    "\n",
    "# Calculating the number of null values in each column\n",
    "null_counts = data.select([F.sum(F.when(F.col(column).isNull(), 1).otherwise(0)).alias(column) \n",
    "                           for column in data.columns])\n",
    "\n",
    "# Showing the null counts per column\n",
    "null_counts.show()\n",
    "\n",
    "\n"
   ]
  },
  {
   "cell_type": "code",
   "execution_count": 7,
   "id": "c561674f",
   "metadata": {},
   "outputs": [
    {
     "name": "stdout",
     "output_type": "stream",
     "text": [
      "Number of rows after removing rows with missing values in columns with fewer than 300 missing values: 64286\n"
     ]
    }
   ],
   "source": [
    "# Calculateing the number of null values for each column\n",
    "null_counts = data.select([F.sum(F.when(F.col(column).isNull(), 1).otherwise(0)).alias(column) \n",
    "                           for column in data.columns])\n",
    "\n",
    "# Collecting the null counts and find columns with fewer than 300 null values\n",
    "columns_with_less_than_300_nulls = [column for column in null_counts.columns if null_counts.select(column).first()[0] < 300]\n",
    "\n",
    "# Dropping rows that have missing values in those columns\n",
    "data_cleaned = data.dropna(subset=columns_with_less_than_300_nulls)\n",
    "\n",
    "# Printing the number of rows after removing\n",
    "print(f\"Number of rows after removing rows with missing values in columns with fewer than 300 missing values: {data_cleaned.count()}\")\n"
   ]
  },
  {
   "cell_type": "code",
   "execution_count": 8,
   "id": "bccf1bd1",
   "metadata": {},
   "outputs": [
    {
     "name": "stdout",
     "output_type": "stream",
     "text": [
      "Unique items in 'Age': [-1, -21, 12, -15, 1, 13, 6, 3, -9, -7, -31, 5, -19, 9, 4, 8, 7, 10, -2, -12, 11, 2, -3]\n",
      "Unique items in 'Sex': ['F', 'Female', 'M', 'Male']\n",
      "Unique items in 'HighChol': [1, 0]\n",
      "Unique items in 'CholCheck': [1, 0]\n",
      "Unique items in 'BMI': ['51', '24.0 kg/m2', '15', '54', '29', '69', '42', '73', '87', '64', '30', '34', '59', '28', '22', '85', '35', '52', '16', '71', '98', '47', '43', '31', '18', '70', '27', '61', '75', '31.0 kg/m2', '17', '26', '46', '77', '89', '68', '60', '19', '41', '23', '55', '95', '38', '40', '38.0 kg/m2', '25', '44', '82', '53', '92', '86', '58', '33.0 kg/m2', '81', '33', '48', '67', '84', '79', '24', '32', '29.0 kg/m2', '20', '56', '36', '37', '49', '63', '65', '39', '25.0 kg/m2', '62', '12', '83', '13', '21', '14', '66', '72', '28.0 kg/m2', '76', '80', '50', '45', '57', '34.0 kg/m2', '21.0 kg/m2', '78', '26.0 kg/m2', '74']\n",
      "Unique items in 'Smoker': ['Smoker', 'Non Smoker']\n",
      "Unique items in 'HeartDiseaseorAttack': [1, 0]\n",
      "Unique items in 'PhysActivity': [1, 0]\n",
      "Unique items in 'Fruits': ['Eat', 'Does not Eat', 'No', 'Yes']\n",
      "Unique items in 'Veggies': ['Eat', 'Does not Eat', 'No', 'Yes']\n",
      "Unique items in 'HvyAlcoholConsump': [1, 0]\n",
      "Unique items in 'GenHlth': ['very good', 'poor', 'excellent', 'good', 'fair']\n",
      "Unique items in 'MentHlth': [28, 26, 27, 12, 22, 1, 13, 6, 16, 3, 20, 5, 19, 15, 9, 17, 4, 8, 23, 7, 10, 25, 24, 29, 21, 11, 14, 2, 30, 0, 18]\n",
      "Unique items in 'PhysHlth': [28, 26, 27, 12, 22, 1, 13, 6, 16, 3, 20, 5, 19, 15, 17, 9, 4, 8, 23, 7, 10, 25, 24, 29, 21, 11, 14, 2, 30, 0, 18]\n",
      "Unique items in 'DiffWalk': ['Y', 'N', 'No', 'Yes']\n",
      "Unique items in 'Stroke': ['Y', 'N', 'No', 'Yes']\n",
      "Unique items in 'HighBP': [1, 0]\n",
      "Unique items in 'SugarConsumption': ['High', 'Low']\n",
      "Unique items in 'Diabetes': ['No', 'Yes']\n"
     ]
    }
   ],
   "source": [
    "# Step 3: Remove inconsistencies\n",
    "for column in data.columns:\n",
    "    # Filtering out 'null' values and then get the distinct unique values\n",
    "    unique_items = data.filter(F.col(column).isNotNull()).select(column).distinct().collect()\n",
    "    \n",
    "    # Converting the result to a list of unique values\n",
    "    unique_items_list = [row[0] for row in unique_items]\n",
    "    print(f\"Unique items in '{column}':\", unique_items_list)\n"
   ]
  },
  {
   "cell_type": "code",
   "execution_count": 9,
   "id": "85b13f96",
   "metadata": {},
   "outputs": [
    {
     "name": "stdout",
     "output_type": "stream",
     "text": [
      "Unique items in 'Age': [-1, -21, 12, -15, 1, 13, 6, 3, -9, -7, -31, 5, -19, 9, 4, 8, 7, 10, -2, -12, 11, 2, -3]\n",
      "Unique items in 'Sex': ['F', 'M']\n",
      "Unique items in 'HighChol': [1, 0]\n",
      "Unique items in 'CholCheck': [1, 0]\n",
      "Unique items in 'BMI': [18.0, 82.0, 64.0, 47.0, 58.0, 39.0, 30.0, 17.0, 26.0, 41.0, 86.0, 29.0, 23.0, 89.0, 67.0, 49.0, 56.0, 14.0, 54.0, 21.0, 55.0, 38.0, 51.0, 48.0, 72.0, 66.0, 70.0, 65.0, 43.0, 27.0, 85.0, 53.0, 87.0, 68.0, 40.0, 12.0, 77.0, 20.0, 57.0, 35.0, 83.0, 34.0, 71.0, 50.0, 76.0, 80.0, 24.0, 69.0, 44.0, 42.0, 16.0, 45.0, 62.0, 46.0, 52.0, 22.0, 81.0, 95.0, 98.0, 59.0, 32.0, 19.0, 25.0, 84.0, 36.0, 33.0, 79.0, 15.0, 92.0, 73.0, 31.0, 63.0, 28.0, 60.0, 61.0, 37.0, 75.0, 13.0, 78.0, 74.0]\n",
      "Unique items in 'Smoker': ['Smoker', 'Non Smoker']\n",
      "Unique items in 'HeartDiseaseorAttack': [1, 0]\n",
      "Unique items in 'PhysActivity': [1, 0]\n",
      "Unique items in 'Fruits': ['Eat', 'Does not Eat']\n",
      "Unique items in 'Veggies': ['Eat', 'Does not Eat']\n",
      "Unique items in 'HvyAlcoholConsump': [1, 0]\n",
      "Unique items in 'GenHlth': ['very good', 'poor', 'excellent', 'good', 'fair']\n",
      "Unique items in 'MentHlth': [28, 26, 27, 12, 22, 1, 13, 6, 16, 3, 20, 5, 19, 15, 9, 17, 4, 8, 23, 7, 10, 25, 24, 29, 21, 11, 14, 2, 30, 0, 18]\n",
      "Unique items in 'PhysHlth': [28, 26, 27, 12, 22, 1, 13, 6, 16, 3, 20, 5, 19, 15, 17, 9, 4, 8, 23, 7, 10, 25, 24, 29, 21, 11, 14, 2, 30, 0, 18]\n",
      "Unique items in 'DiffWalk': ['Y', 'N']\n",
      "Unique items in 'Stroke': ['Y', 'N']\n",
      "Unique items in 'HighBP': [1, 0]\n",
      "Unique items in 'SugarConsumption': ['High', 'Low']\n",
      "Unique items in 'Diabetes': ['Y', 'N']\n"
     ]
    }
   ],
   "source": [
    "# Replacing values in columns using PySpark\n",
    "data = data.withColumn('Sex', F.when(F.col('Sex') == 'Male', 'M')\n",
    "                        .when(F.col('Sex') == 'Female', 'F')\n",
    "                        .otherwise(F.col('Sex')))\n",
    "\n",
    "data = data.withColumn('Fruits', F.when(F.col('Fruits') == 'Yes', 'Eat')\n",
    "                         .when(F.col('Fruits') == 'No', 'Does not Eat')\n",
    "                         .otherwise(F.col('Fruits')))\n",
    "\n",
    "data = data.withColumn('Veggies', F.when(F.col('Veggies') == 'Yes', 'Eat')\n",
    "                         .when(F.col('Veggies') == 'No', 'Does not Eat')\n",
    "                         .otherwise(F.col('Veggies')))\n",
    "\n",
    "data = data.withColumn('DiffWalk', F.when(F.col('DiffWalk') == 'Yes', 'Y')\n",
    "                        .when(F.col('DiffWalk') == 'No', 'N')\n",
    "                        .otherwise(F.col('DiffWalk')))\n",
    "\n",
    "data = data.withColumn('Stroke', F.when(F.col('Stroke') == 'Yes', 'Y')\n",
    "                       .when(F.col('Stroke') == 'No', 'N')\n",
    "                       .otherwise(F.col('Stroke')))\n",
    "\n",
    "data = data.withColumn('Diabetes', F.when(F.col('Diabetes') == 'Yes', 'Y')\n",
    "                        .when(F.col('Diabetes') == 'No', 'N')\n",
    "                        .otherwise(F.col('Diabetes')))\n",
    "\n",
    "# Converting 'BMI' column to float after removing ' kg/m2'\n",
    "data = data.withColumn('BMI', F.regexp_replace('BMI', ' kg/m2', '').cast('float'))\n",
    "\n",
    "    \n",
    "    \n",
    "    # Looping through columns to get unique values in each column using distinct\n",
    "for column in data.columns:\n",
    "    # Replacing 'None' or null values with 'Not Specified' before getting distinct values\n",
    "    unique_items = data.filter(F.col(column).isNotNull()).select(column).distinct().collect()\n",
    "    \n",
    "    # Collecting and convert to list\n",
    "    unique_items_list = [row[0] if row[0] is not None else 'Not Specified' for row in unique_items]\n",
    "    \n",
    "    print(f\"Unique items in '{column}':\", unique_items_list)\n"
   ]
  },
  {
   "cell_type": "code",
   "execution_count": 10,
   "id": "0a798407",
   "metadata": {},
   "outputs": [
    {
     "name": "stdout",
     "output_type": "stream",
     "text": [
      "After imputing the null values, the number of nulls in the dataset are: 0\n"
     ]
    }
   ],
   "source": [
    "# Step 4: Filling null values  with mode and mean\n",
    "# Defining a function to impute missing values\n",
    "def impute_nulls(data):\n",
    "    for column in data.columns:\n",
    "        # Checking if column has null values\n",
    "        if data.filter(data[column].isNull()).count() > 0:\n",
    "            \n",
    "            # Handling categorical columns (strings) by filling with mode\n",
    "            if dict(data.dtypes)[column] == 'string':\n",
    "                # Calculate the mode (most frequent value) for categorical columns\n",
    "                mode_value = data.groupby(column).count().orderBy(F.desc('count')).first()[0]\n",
    "                data = data.fillna({column: mode_value})\n",
    "            \n",
    "            # Handling numeric columns by filling with mean\n",
    "            else:\n",
    "                # Calculating the mean for numeric columns\n",
    "                mean_value = data.agg({column: 'avg'}).collect()[0][0]\n",
    "                data = data.fillna({column: mean_value})\n",
    "\n",
    "    return data\n",
    "\n",
    "# Applying the function to impute missing values in the dataset\n",
    "data = impute_nulls(data)\n",
    "\n",
    "# Verifying if there are any remaining null values\n",
    "remaining_nulls = data.filter(F.coalesce(*[F.col(col).isNull() for col in data.columns])).count()\n",
    "print(f\"After imputing the null values, the number of nulls in the dataset are: {remaining_nulls}\")\n"
   ]
  },
  {
   "cell_type": "code",
   "execution_count": 11,
   "id": "52576eea",
   "metadata": {},
   "outputs": [
    {
     "name": "stdout",
     "output_type": "stream",
     "text": [
      "Number of negative values in the 'Age' column: 11\n",
      "Number of rows after removing negative values: 65142\n"
     ]
    }
   ],
   "source": [
    "# Step 5: Removing negative values in age column\n",
    "# Checking for negative values in the 'Age' column\n",
    "negative_age_count = data.filter(data['Age'] < 0).count()\n",
    "print(f\"Number of negative values in the 'Age' column: {negative_age_count}\")\n",
    "\n",
    "# Removing rows with negative values in the 'Age' column\n",
    "data_cleaned = data.filter(data['Age'] >= 0)\n",
    "\n",
    "# Printing the number of rows after removing negative values\n",
    "remaining_rows = data_cleaned.count()\n",
    "print(f\"Number of rows after removing negative values: {remaining_rows}\")\n"
   ]
  },
  {
   "cell_type": "code",
   "execution_count": 12,
   "id": "028e3e45",
   "metadata": {},
   "outputs": [
    {
     "name": "stdout",
     "output_type": "stream",
     "text": [
      "Age Group: Teen, Count: 27510\n",
      "Age Group: Kid, Count: 37632\n"
     ]
    }
   ],
   "source": [
    "# Step 6: Creating new attribute AgeGroup to classify as kids and teens\n",
    "# Defining the age bins and labels\n",
    "age_bins = [0, 10, 100]\n",
    "age_labels = ['Kid', 'Teen']\n",
    "\n",
    "# Creating a new column 'Age_Group' based on the age classification\n",
    "# Using when() to classify 'Age' into 'Kid' or 'Teen'\n",
    "data = data_cleaned.withColumn('Age_Group', \n",
    "                       F.when((data['Age'] >= age_bins[0]) & (data['Age'] < age_bins[1]), age_labels[0])\n",
    "                       .when((data['Age'] >= age_bins[1]) & (data['Age'] < age_bins[2]), age_labels[1])\n",
    "                       .otherwise(None))\n",
    "\n",
    "# Counting the number of 'Kid' and 'Teen' entries in the 'Age_Group' column\n",
    "age_group_counts = data.groupBy('Age_Group').count().collect()\n",
    "\n",
    "# Printing the result\n",
    "for row in age_group_counts:\n",
    "    print(f\"Age Group: {row['Age_Group']}, Count: {row['count']}\")\n",
    "\n"
   ]
  },
  {
   "cell_type": "code",
   "execution_count": 13,
   "id": "1d775de3",
   "metadata": {},
   "outputs": [
    {
     "name": "stdout",
     "output_type": "stream",
     "text": [
      "+---+---+--------+---------+---+----------+--------------------+------------+------------+------------+-----------------+---------+--------+--------+--------+------+------+----------------+--------+---------+\n",
      "|Age|Sex|HighChol|CholCheck|BMI|    Smoker|HeartDiseaseorAttack|PhysActivity|      Fruits|     Veggies|HvyAlcoholConsump|  GenHlth|MentHlth|PhysHlth|DiffWalk|Stroke|HighBP|SugarConsumption|Diabetes|Age_Group|\n",
      "+---+---+--------+---------+---+----------+--------------------+------------+------------+------------+-----------------+---------+--------+--------+--------+------+------+----------------+--------+---------+\n",
      "|  3|  F|       0|        1| 39|Non Smoker|                   0|           1|Does not Eat|Does not Eat|                0|     good|       2|       0|       N|     N|     0|            High|       N|      Kid|\n",
      "|  9|  M|       1|        1| 29|Non Smoker|                   0|           0|         Eat|         Eat|                0|     good|       0|       0|       N|     N|     0|            High|       N|      Kid|\n",
      "|  8|  F|       0|        1| 28|Non Smoker|                   0|           1|         Eat|         Eat|                0|excellent|       0|       0|       N|     N|     0|            High|       N|      Kid|\n",
      "|  8|  M|       1|        1| 26|Non Smoker|                   0|           0|         Eat|         Eat|                0|very good|       0|       0|       N|     N|     0|            High|       N|      Kid|\n",
      "|  9|  M|       0|        1| 27|    Smoker|                   0|           1|         Eat|         Eat|                0|     good|       0|       0|       N|     N|     0|            High|       N|      Kid|\n",
      "+---+---+--------+---------+---+----------+--------------------+------------+------------+------------+-----------------+---------+--------+--------+--------+------+------+----------------+--------+---------+\n",
      "only showing top 5 rows\n",
      "\n"
     ]
    }
   ],
   "source": [
    "# Step 7: Data type conversion for BMI column\n",
    "data = data.withColumn(\"BMI\", F.col(\"BMI\").cast(\"int\"))\n",
    "data = data.withColumn(\"Age\", F.col(\"Age\").cast(\"int\"))\n",
    "\n",
    "data.show(5)\n"
   ]
  },
  {
   "cell_type": "code",
   "execution_count": 14,
   "id": "96ce2201",
   "metadata": {},
   "outputs": [
    {
     "name": "stdout",
     "output_type": "stream",
     "text": [
      "+-------------+-----+\n",
      "|    BMI_Group|count|\n",
      "+-------------+-----+\n",
      "|        Obese| 4966|\n",
      "|   OverWeight|20834|\n",
      "|HealthyWeight|22677|\n",
      "|  UnderWeight|16665|\n",
      "+-------------+-----+\n",
      "\n"
     ]
    }
   ],
   "source": [
    "# Step 8: Creating new attribute \"BMI_Group\"\n",
    "bmi_bins = [12, 25, 30, 40, 100]\n",
    "bmi_labels = ['UnderWeight', 'HealthyWeight', 'OverWeight', 'Obese']\n",
    "\n",
    "# Using when() to categorize BMI\n",
    "data = data.withColumn(\n",
    "    \"BMI_Group\", \n",
    "    F.when(F.col(\"BMI\") <= bmi_bins[1], bmi_labels[0])\n",
    "     .when((F.col(\"BMI\") > bmi_bins[1]) & (F.col(\"BMI\") <= bmi_bins[2]), bmi_labels[1])\n",
    "     .when((F.col(\"BMI\") > bmi_bins[2]) & (F.col(\"BMI\") <= bmi_bins[3]), bmi_labels[2])\n",
    "     .otherwise(bmi_labels[3])\n",
    ")\n",
    "\n",
    "\n",
    "# Counting the number of records in each BMI group\n",
    "bmi_group_counts = data.groupBy(\"BMI_Group\").count()\n",
    "bmi_group_counts.show()\n"
   ]
  },
  {
   "cell_type": "code",
   "execution_count": 15,
   "id": "c702857a",
   "metadata": {},
   "outputs": [],
   "source": [
    "# Step 9: Label Encoding to convert categorical values into numerical labels\n",
    "# Identifying categorical columns by checking the data type\n",
    "categorical_columns = [col_name for col_name, dtype in data.dtypes if dtype == \"string\"]\n",
    "\n",
    "# Applying StringIndexer for each categorical column\n",
    "indexers = [StringIndexer(inputCol=col, outputCol=f\"{col}_Index\").fit(data) for col in categorical_columns]\n",
    "\n",
    "# Transforming the data using each indexer\n",
    "for indexer in indexers:\n",
    "    data = indexer.transform(data)\n"
   ]
  },
  {
   "cell_type": "code",
   "execution_count": 16,
   "id": "ccb8ef9f",
   "metadata": {},
   "outputs": [
    {
     "name": "stdout",
     "output_type": "stream",
     "text": [
      "Columns in the DataFrame after dropping original string columns: ['Age', 'HighChol', 'CholCheck', 'BMI', 'HeartDiseaseorAttack', 'PhysActivity', 'HvyAlcoholConsump', 'MentHlth', 'PhysHlth', 'HighBP', 'Sex_Index', 'Smoker_Index', 'Fruits_Index', 'Veggies_Index', 'GenHlth_Index', 'DiffWalk_Index', 'Stroke_Index', 'SugarConsumption_Index', 'Diabetes_Index', 'Age_Group_Index', 'BMI_Group_Index']\n",
      "+---+--------+---------+---+--------------------+------------+-----------------+--------+--------+------+---------+------------+------------+-------------+-------------+--------------+------------+----------------------+--------------+---------------+---------------+\n",
      "|Age|HighChol|CholCheck|BMI|HeartDiseaseorAttack|PhysActivity|HvyAlcoholConsump|MentHlth|PhysHlth|HighBP|Sex_Index|Smoker_Index|Fruits_Index|Veggies_Index|GenHlth_Index|DiffWalk_Index|Stroke_Index|SugarConsumption_Index|Diabetes_Index|Age_Group_Index|BMI_Group_Index|\n",
      "+---+--------+---------+---+--------------------+------------+-----------------+--------+--------+------+---------+------------+------------+-------------+-------------+--------------+------------+----------------------+--------------+---------------+---------------+\n",
      "|  3|       0|        1| 39|                   0|           1|                0|       2|       0|     0|      0.0|         0.0|         1.0|          1.0|          0.0|           0.0|         0.0|                   0.0|           1.0|            0.0|            1.0|\n",
      "|  9|       1|        1| 29|                   0|           0|                0|       0|       0|     0|      1.0|         0.0|         0.0|          0.0|          0.0|           0.0|         0.0|                   0.0|           1.0|            0.0|            0.0|\n",
      "|  8|       0|        1| 28|                   0|           1|                0|       0|       0|     0|      0.0|         0.0|         0.0|          0.0|          3.0|           0.0|         0.0|                   0.0|           1.0|            0.0|            0.0|\n",
      "|  8|       1|        1| 26|                   0|           0|                0|       0|       0|     0|      1.0|         0.0|         0.0|          0.0|          1.0|           0.0|         0.0|                   0.0|           1.0|            0.0|            0.0|\n",
      "|  9|       0|        1| 27|                   0|           1|                0|       0|       0|     0|      1.0|         1.0|         0.0|          0.0|          0.0|           0.0|         0.0|                   0.0|           1.0|            0.0|            0.0|\n",
      "+---+--------+---------+---+--------------------+------------+-----------------+--------+--------+------+---------+------------+------------+-------------+-------------+--------------+------------+----------------------+--------------+---------------+---------------+\n",
      "only showing top 5 rows\n",
      "\n"
     ]
    }
   ],
   "source": [
    "# Dropping the original string columns\n",
    "data = data.drop(*categorical_columns)\n",
    "\n",
    "# Verifying the columns in the DataFrame\n",
    "print(\"Columns in the DataFrame after dropping original string columns:\", data.columns)\n",
    "\n",
    "data.show(5)\n"
   ]
  },
  {
   "cell_type": "code",
   "execution_count": 17,
   "id": "37f3fd82",
   "metadata": {},
   "outputs": [
    {
     "name": "stdout",
     "output_type": "stream",
     "text": [
      "+----------------------+-----+\n",
      "|SugarConsumption_Index|count|\n",
      "+----------------------+-----+\n",
      "|                   0.0|65138|\n",
      "|                   1.0|    4|\n",
      "+----------------------+-----+\n",
      "\n"
     ]
    }
   ],
   "source": [
    "# Step 10: Dropping Features\n",
    "# Count the occurrences of each value in 'SugarConsumption_Index'\n",
    "sugar_consumption_counts = data.groupBy('SugarConsumption_Index').count().orderBy('SugarConsumption_Index')\n",
    "\n",
    "# Showing the counts for each label in 'SugarConsumption_Index'\n",
    "sugar_consumption_counts.show()\n",
    "\n",
    "# Dropping the 'SugarConsumption_Index' column\n",
    "data = data.drop('SugarConsumption_Index')\n"
   ]
  },
  {
   "cell_type": "code",
   "execution_count": 18,
   "id": "5f605b84",
   "metadata": {},
   "outputs": [
    {
     "name": "stdout",
     "output_type": "stream",
     "text": [
      "Lower bound for 'BMI': 13.0\n",
      "Upper bound for 'BMI': 45.0\n",
      "Lower bound for 'Age': 1.0\n",
      "Upper bound for 'Age': 17.0\n",
      "Number of rows after removing outliers: 63003\n"
     ]
    }
   ],
   "source": [
    "# Step 11: Removing outliers\n",
    "# Specifying the columns to clean (BMI and Age)\n",
    "columns_to_clean = ['BMI', 'Age']\n",
    "\n",
    "# Calculateing Q1, Q3, and IQR for BMI and Age columns, and filter out outliers\n",
    "for col_name in columns_to_clean:\n",
    "    # Calculate Q1 (25th percentile), Q3 (75th percentile), and IQR (Interquartile Range)\n",
    "    q1 = data.approxQuantile(col_name, [0.25], 0.01)[0]\n",
    "    q3 = data.approxQuantile(col_name, [0.75], 0.01)[0]\n",
    "    iqr = q3 - q1\n",
    "    \n",
    "    # Defining the lower and upper bounds for outliers\n",
    "    lower_bound = q1 - 1.5 * iqr\n",
    "    upper_bound = q3 + 1.5 * iqr\n",
    "    \n",
    "    # Printing the bounds for the column\n",
    "    print(f\"Lower bound for '{col_name}': {lower_bound}\")\n",
    "    print(f\"Upper bound for '{col_name}': {upper_bound}\")\n",
    "    \n",
    "    # Filtering out the rows that are outliers for this column\n",
    "    data = data.filter((F.col(col_name) >= lower_bound) & (F.col(col_name) <= upper_bound))\n",
    "\n",
    "# Printing the number of rows after removing outliers\n",
    "print(f\"Number of rows after removing outliers: {data.count()}\")\n",
    "\n"
   ]
  },
  {
   "cell_type": "code",
   "execution_count": 19,
   "id": "471d7702",
   "metadata": {},
   "outputs": [
    {
     "name": "stdout",
     "output_type": "stream",
     "text": [
      "+---------------+---+---+------------------+\n",
      "|BMI_Group_Index|Age|BMI|   Rolling_BMI_Avg|\n",
      "+---------------+---+---+------------------+\n",
      "|            0.0|  1| 26|26.666666666666668|\n",
      "|            0.0|  1| 26|             26.75|\n",
      "|            0.0|  1| 28|              26.6|\n",
      "|            0.0|  1| 27|              26.6|\n",
      "|            0.0|  1| 26|              26.8|\n",
      "|            0.0|  1| 26|              26.8|\n",
      "|            0.0|  1| 27|              27.0|\n",
      "|            0.0|  1| 28|              27.4|\n",
      "|            0.0|  1| 28|              27.8|\n",
      "|            0.0|  1| 28|              27.8|\n",
      "+---------------+---+---+------------------+\n",
      "only showing top 10 rows\n",
      "\n"
     ]
    }
   ],
   "source": [
    "# Step 12: Rolling average of BMI\n",
    "# Defining a rolling window grouped by BMI_Group_Index and ordered by Age\n",
    "rolling_window = Window.partitionBy(\"BMI_Group_Index\").orderBy(\"Age\").rowsBetween(-2, 2)\n",
    "\n",
    "# Adding a column for rolling average of BMI\n",
    "data = data.withColumn(\"Rolling_BMI_Avg\", F.avg(\"BMI\").over(rolling_window))\n",
    "\n",
    "# Showing the result with the Rolling_BMI_Avg column\n",
    "data.select(\"BMI_Group_Index\", \"Age\", \"BMI\", \"Rolling_BMI_Avg\").show(10)\n"
   ]
  },
  {
   "cell_type": "code",
   "execution_count": 20,
   "id": "e209aa91",
   "metadata": {},
   "outputs": [
    {
     "name": "stdout",
     "output_type": "stream",
     "text": [
      "+---------------+-----+----+\n",
      "|BMI_Group_Index|count|Rank|\n",
      "+---------------+-----+----+\n",
      "|            0.0|22677|   1|\n",
      "|            1.0|20834|   2|\n",
      "|            2.0|16664|   3|\n",
      "|            3.0| 2828|   4|\n",
      "+---------------+-----+----+\n",
      "\n"
     ]
    }
   ],
   "source": [
    "# Step 13:Grouping by BMI_Group_Index and Calculating the Count\n",
    "data_grouped = data.groupBy(\"BMI_Group_Index\").agg(F.count(\"*\").alias(\"count\"))\n",
    "\n",
    "# Defining a window partitioned by BMI_Group_Index and ordered by count descending\n",
    "ranking_window = Window.orderBy(F.desc(\"count\"))\n",
    "\n",
    "# Adding the rank column\n",
    "data_with_rank = data_grouped.withColumn(\"Rank\", F.rank().over(ranking_window))\n",
    "\n",
    "data_with_rank.show(10)\n"
   ]
  },
  {
   "cell_type": "markdown",
   "id": "70a17b6f-ce63-4177-8b65-9b3e20f659e8",
   "metadata": {},
   "source": [
    "### Machine Learning Algorithms using PySpark's MLlib"
   ]
  },
  {
   "cell_type": "code",
   "execution_count": 22,
   "id": "203c8fa4-8cc8-44db-96aa-2417e2bb8058",
   "metadata": {},
   "outputs": [],
   "source": [
    "import time\n",
    "execution_times = []\n",
    "precisions = []\n",
    "accuracies = []\n",
    "f1_scores = []\n",
    "recalls = []"
   ]
  },
  {
   "cell_type": "code",
   "execution_count": 23,
   "id": "be9165dc-088b-47af-80e6-7d0cea2ed090",
   "metadata": {},
   "outputs": [],
   "source": [
    "from pyspark.ml.feature import VectorAssembler\n",
    "# Split the data into train and test\n",
    "data = data.drop(\"features\")\n",
    "splits = data.randomSplit([0.8, 0.2], 1234)\n",
    "train = splits[0]\n",
    "test = splits[1]\n",
    "\n",
    "assembler = VectorAssembler(inputCols=['BMI', 'Age', 'HighChol', 'CholCheck', 'PhysActivity', 'HvyAlcoholConsump', \n",
    "                                       'HeartDiseaseorAttack', 'MentHlth', 'PhysHlth', 'HighBP', 'Sex_Index', \n",
    "                                       'BMI_Group_Index'], outputCol='features')"
   ]
  },
  {
   "cell_type": "markdown",
   "id": "d2c7e111-177c-4588-915e-2a68b391de3f",
   "metadata": {},
   "source": [
    "#### 1. Logistic Regression"
   ]
  },
  {
   "cell_type": "code",
   "execution_count": 25,
   "id": "d72db56d-51d9-4bc2-9fa0-0732598c1ad5",
   "metadata": {
    "scrolled": true
   },
   "outputs": [
    {
     "name": "stdout",
     "output_type": "stream",
     "text": [
      "Confusion Matrix:\n",
      "+--------------+----------+-----+\n",
      "|Diabetes_Index|prediction|count|\n",
      "+--------------+----------+-----+\n",
      "|           0.0|       0.0| 4882|\n",
      "|           0.0|       1.0| 1581|\n",
      "|           1.0|       0.0| 1944|\n",
      "|           1.0|       1.0| 4177|\n",
      "+--------------+----------+-----+\n",
      "\n",
      "Execution Time: 11.253801584243774 seconds\n"
     ]
    }
   ],
   "source": [
    "from pyspark.ml.classification import LogisticRegression\n",
    "from pyspark.ml import Pipeline\n",
    "from pyspark.ml.evaluation import BinaryClassificationEvaluator\n",
    "\n",
    "# Initialize Logistic Regression\n",
    "lr = LogisticRegression(featuresCol='features', labelCol='Diabetes_Index')\n",
    "\n",
    "# Create a Pipeline\n",
    "pipeline = Pipeline(stages=[assembler, lr])\n",
    "\n",
    "# Measure the execution time for fitting the model\n",
    "start_time = time.time()\n",
    "\n",
    "# Fit the model\n",
    "model = pipeline.fit(train)\n",
    "\n",
    "# Make predictions\n",
    "predictions_lr = model.transform(test)\n",
    "\n",
    "# Time taken\n",
    "end_time = time.time()\n",
    "execution_time = end_time - start_time\n",
    "\n",
    "# Compute the confusion matrix\n",
    "confusion_matrix = predictions_lr.groupBy('Diabetes_Index', 'prediction').count().orderBy('Diabetes_Index', 'prediction')\n",
    "print(\"Confusion Matrix:\")\n",
    "confusion_matrix.show()\n",
    "\n",
    "execution_times.append(execution_time)\n",
    "print(f\"Execution Time: {execution_time} seconds\")\n"
   ]
  },
  {
   "cell_type": "markdown",
   "id": "d445f3ba-cdcd-4cee-b702-1bf449d4bf6c",
   "metadata": {},
   "source": [
    "#### 2. Naive Bayes"
   ]
  },
  {
   "cell_type": "code",
   "execution_count": 27,
   "id": "a80c5532-538c-47d7-8a80-3c4cefdebf08",
   "metadata": {},
   "outputs": [
    {
     "name": "stdout",
     "output_type": "stream",
     "text": [
      "Confusion Matrix:\n",
      "+--------------+----------+-----+\n",
      "|Diabetes_Index|prediction|count|\n",
      "+--------------+----------+-----+\n",
      "|           0.0|       0.0| 2380|\n",
      "|           0.0|       1.0| 4083|\n",
      "|           1.0|       0.0| 1254|\n",
      "|           1.0|       1.0| 4867|\n",
      "+--------------+----------+-----+\n",
      "\n",
      "Execution Time: 3.301290988922119 seconds\n"
     ]
    }
   ],
   "source": [
    "from pyspark.ml.classification import NaiveBayes\n",
    "\n",
    "# Initialize NaiveBayes\n",
    "nb = NaiveBayes(featuresCol='features', labelCol='Diabetes_Index', modelType=\"multinomial\")\n",
    "\n",
    "# Create a pipeline\n",
    "pipeline = Pipeline(stages=[assembler, nb])\n",
    "\n",
    "# Measure the execution time for fitting the model\n",
    "start_time = time.time()\n",
    "\n",
    "# Fit the model\n",
    "model = pipeline.fit(train)\n",
    "\n",
    "# Make predictions\n",
    "predictions_nb = model.transform(test)\n",
    "\n",
    "# Measure the time it took to fit the model and make predictions\n",
    "end_time = time.time()\n",
    "execution_time = end_time - start_time\n",
    "\n",
    "# Compute the confusion matrix\n",
    "confusion_matrix = predictions_nb.groupBy('Diabetes_Index', 'prediction').count().orderBy('Diabetes_Index', 'prediction')\n",
    "print(\"Confusion Matrix:\")\n",
    "confusion_matrix.show()\n",
    "\n",
    "execution_times.append(execution_time)\n",
    "print(f\"Execution Time: {execution_time} seconds\")"
   ]
  },
  {
   "cell_type": "markdown",
   "id": "7fb9520f-214b-4617-956d-e890a5fee6ea",
   "metadata": {},
   "source": [
    "#### 3. Support Vector Machine"
   ]
  },
  {
   "cell_type": "code",
   "execution_count": 29,
   "id": "60cd6531-3530-4368-b6c1-ac96962f6114",
   "metadata": {},
   "outputs": [
    {
     "name": "stdout",
     "output_type": "stream",
     "text": [
      "Confusion Matrix:\n",
      "+--------------+----------+-----+\n",
      "|Diabetes_Index|prediction|count|\n",
      "+--------------+----------+-----+\n",
      "|           0.0|       0.0| 4974|\n",
      "|           0.0|       1.0| 1489|\n",
      "|           1.0|       0.0| 2120|\n",
      "|           1.0|       1.0| 4001|\n",
      "+--------------+----------+-----+\n",
      "\n",
      "Execution Time: 8.832097053527832 seconds\n"
     ]
    }
   ],
   "source": [
    "from pyspark.ml.classification import LinearSVC\n",
    "\n",
    "# Initialize SVM (Linear Support Vector Machine)\n",
    "svm = LinearSVC(featuresCol='features', labelCol='Diabetes_Index')\n",
    "\n",
    "# Create a pipeline\n",
    "pipeline = Pipeline(stages=[assembler, svm])\n",
    "\n",
    "# Measure the execution time for fitting the model\n",
    "start_time = time.time()\n",
    "\n",
    "# Fit the model\n",
    "model = pipeline.fit(train)\n",
    "\n",
    "# Make predictions\n",
    "predictions_svm = model.transform(test)\n",
    "\n",
    "# Measure the time it took to fit the model and make predictions\n",
    "end_time = time.time()\n",
    "execution_time = end_time - start_time\n",
    "\n",
    "\n",
    "# Compute the confusion matrix\n",
    "confusion_matrix = predictions_svm.groupBy('Diabetes_Index', 'prediction').count().orderBy('Diabetes_Index', 'prediction')\n",
    "print(\"Confusion Matrix:\")\n",
    "confusion_matrix.show()\n",
    "\n",
    "execution_times.append(execution_time)\n",
    "print(f\"Execution Time: {execution_time} seconds\")"
   ]
  },
  {
   "cell_type": "markdown",
   "id": "5c0a2bcb-3dd9-46fd-a7ff-d83513abd9a8",
   "metadata": {},
   "source": [
    "#### 4. Random Forest Classifier"
   ]
  },
  {
   "cell_type": "code",
   "execution_count": 31,
   "id": "176e6b8c-076a-4919-8121-b24b45e3c6be",
   "metadata": {},
   "outputs": [
    {
     "name": "stdout",
     "output_type": "stream",
     "text": [
      "Confusion Matrix:\n",
      "+--------------+----------+-----+\n",
      "|Diabetes_Index|prediction|count|\n",
      "+--------------+----------+-----+\n",
      "|           0.0|       0.0| 5005|\n",
      "|           0.0|       1.0| 1458|\n",
      "|           1.0|       0.0| 2124|\n",
      "|           1.0|       1.0| 3997|\n",
      "+--------------+----------+-----+\n",
      "\n",
      "Execution Time: 8.422480821609497 seconds\n"
     ]
    }
   ],
   "source": [
    "from pyspark.ml.classification import RandomForestClassifier\n",
    "\n",
    "# Initialize Random Forest\n",
    "rf = RandomForestClassifier(featuresCol='features', labelCol='Diabetes_Index')\n",
    "\n",
    "# Create a pipeline\n",
    "pipeline = Pipeline(stages=[assembler, rf])\n",
    "\n",
    "# Measure the execution time for fitting the model\n",
    "start_time = time.time()\n",
    "\n",
    "# Fit the model\n",
    "model = pipeline.fit(train)\n",
    "\n",
    "# Make predictions\n",
    "predictions_rf = model.transform(test)\n",
    "\n",
    "# Measure the time it took to fit the model and make predictions\n",
    "end_time = time.time()\n",
    "execution_time = end_time - start_time\n",
    "\n",
    "# Compute the confusion matrix\n",
    "confusion_matrix = predictions_rf.groupBy('Diabetes_Index', 'prediction').count().orderBy('Diabetes_Index', 'prediction')\n",
    "print(\"Confusion Matrix:\")\n",
    "confusion_matrix.show()\n",
    "\n",
    "execution_times.append(execution_time)\n",
    "print(f\"Execution Time: {execution_time} seconds\")"
   ]
  },
  {
   "cell_type": "markdown",
   "id": "00eff4d0-e0c2-4a4a-a80f-cc92a13feb53",
   "metadata": {},
   "source": [
    "#### 5. Gradient Boost Classifier"
   ]
  },
  {
   "cell_type": "code",
   "execution_count": 33,
   "id": "60b0b58f-21e2-497e-a271-40fe18d1fca7",
   "metadata": {},
   "outputs": [
    {
     "name": "stdout",
     "output_type": "stream",
     "text": [
      "Confusion Matrix:\n",
      "+--------------+----------+-----+\n",
      "|Diabetes_Index|prediction|count|\n",
      "+--------------+----------+-----+\n",
      "|           0.0|       0.0| 4943|\n",
      "|           0.0|       1.0| 1520|\n",
      "|           1.0|       0.0| 2044|\n",
      "|           1.0|       1.0| 4077|\n",
      "+--------------+----------+-----+\n",
      "\n",
      "Execution Time: 11.985657691955566 seconds\n"
     ]
    }
   ],
   "source": [
    "from pyspark.ml.classification import GBTClassifier\n",
    "\n",
    "# Initialize GBTClassifier\n",
    "gbt = GBTClassifier(featuresCol='features', labelCol='Diabetes_Index')\n",
    "\n",
    "# Create a Pipeline\n",
    "pipeline = Pipeline(stages=[assembler, gbt])\n",
    "\n",
    "# Measure the execution time for fitting the model\n",
    "start_time = time.time()\n",
    "\n",
    "# Fit the model\n",
    "model = pipeline.fit(train)\n",
    "\n",
    "# Make predictions\n",
    "predictions_gb = model.transform(test)\n",
    "\n",
    "# Measure the time it took to fit the model and make predictions\n",
    "end_time = time.time()\n",
    "execution_time = end_time - start_time\n",
    "\n",
    "# Compute the confusion matrix\n",
    "confusion_matrix = predictions_gb.groupBy('Diabetes_Index', 'prediction').count().orderBy('Diabetes_Index', 'prediction')\n",
    "print(\"Confusion Matrix:\")\n",
    "confusion_matrix.show()\n",
    "\n",
    "execution_times.append(execution_time)\n",
    "print(f\"Execution Time: {execution_time} seconds\")"
   ]
  },
  {
   "cell_type": "markdown",
   "id": "6490e057-c0ae-4127-b3ea-36098e06d12a",
   "metadata": {},
   "source": [
    "#### 6. Decision Tree"
   ]
  },
  {
   "cell_type": "code",
   "execution_count": 35,
   "id": "692ea2e0-49c5-47d2-bc61-a9537ff6ebc8",
   "metadata": {},
   "outputs": [
    {
     "name": "stdout",
     "output_type": "stream",
     "text": [
      "Confusion Matrix:\n",
      "+--------------+----------+-----+\n",
      "|Diabetes_Index|prediction|count|\n",
      "+--------------+----------+-----+\n",
      "|           0.0|       0.0| 4880|\n",
      "|           0.0|       1.0| 1583|\n",
      "|           1.0|       0.0| 2117|\n",
      "|           1.0|       1.0| 4004|\n",
      "+--------------+----------+-----+\n",
      "\n",
      "Execution Time: 4.208444595336914 seconds\n"
     ]
    }
   ],
   "source": [
    "from pyspark.ml.classification import DecisionTreeClassifier\n",
    "\n",
    "# Initialize Decision Tree Classifier\n",
    "dt = DecisionTreeClassifier(featuresCol='features', labelCol='Diabetes_Index')\n",
    "\n",
    "# Create a pipeline\n",
    "pipeline = Pipeline(stages=[assembler, dt])\n",
    "\n",
    "# Measure the execution time for fitting the model\n",
    "start_time = time.time()\n",
    "\n",
    "# Fit the model\n",
    "model = pipeline.fit(train)\n",
    "\n",
    "# Make predictions\n",
    "predictions_dt = model.transform(test)\n",
    "\n",
    "# Measure the time it took to fit the model and make predictions\n",
    "end_time = time.time()\n",
    "execution_time = end_time - start_time\n",
    "\n",
    "# Compute the confusion matrix\n",
    "confusion_matrix = predictions_dt.groupBy('Diabetes_Index', 'prediction').count().orderBy('Diabetes_Index', 'prediction')\n",
    "print(\"Confusion Matrix:\")\n",
    "confusion_matrix.show()\n",
    "\n",
    "execution_times.append(execution_time)\n",
    "print(f\"Execution Time: {execution_time} seconds\")\n"
   ]
  },
  {
   "cell_type": "markdown",
   "id": "ef84bda6-5fd3-4b60-8b06-138ef8addc1d",
   "metadata": {},
   "source": [
    "#### 7. Multilayer Perceptron Classifier (MLP)"
   ]
  },
  {
   "cell_type": "code",
   "execution_count": 37,
   "id": "08956fe9-b779-4641-ae80-d728f1077da4",
   "metadata": {},
   "outputs": [
    {
     "name": "stdout",
     "output_type": "stream",
     "text": [
      "Confusion Matrix:\n",
      "+--------------+----------+-----+\n",
      "|Diabetes_Index|prediction|count|\n",
      "+--------------+----------+-----+\n",
      "|           0.0|       0.0| 4981|\n",
      "|           0.0|       1.0| 1482|\n",
      "|           1.0|       0.0| 2079|\n",
      "|           1.0|       1.0| 4042|\n",
      "+--------------+----------+-----+\n",
      "\n",
      "Execution Time: 16.55525302886963 seconds\n"
     ]
    }
   ],
   "source": [
    "from pyspark.ml.classification import MultilayerPerceptronClassifier\n",
    "from pyspark.ml.feature import VectorAssembler\n",
    "from pyspark.ml import Pipeline\n",
    "from pyspark.ml.evaluation import MulticlassClassificationEvaluator\n",
    "\n",
    "assembler = VectorAssembler(inputCols=['BMI', 'Age', 'HighChol', 'CholCheck', 'PhysActivity', 'HvyAlcoholConsump', \n",
    "                                       'HeartDiseaseorAttack', 'MentHlth', 'PhysHlth', 'HighBP', 'Sex_Index', \n",
    "                                       'BMI_Group_Index'],\n",
    "                            outputCol='features')\n",
    "\n",
    "# Initialize MLP classifier\n",
    "mlp = MultilayerPerceptronClassifier(featuresCol='features', labelCol='Diabetes_Index', maxIter=100)\n",
    "\n",
    "# Define the network architecture (input layer(5 neurons), hidden layers(4 neurons), output layer(2 neurons))\n",
    "layers = [len(['BMI', 'Age', 'HighChol', 'CholCheck', 'PhysActivity', 'HvyAlcoholConsump', 'HeartDiseaseorAttack', 'MentHlth', 'PhysHlth', 'HighBP', 'Sex_Index', 'BMI_Group_Index']),\n",
    "          5, \n",
    "          4,\n",
    "          2]\n",
    "\n",
    "# Set the layers for the MLP model\n",
    "mlp.setLayers(layers)\n",
    "\n",
    "# Create a pipeline\n",
    "pipeline = Pipeline(stages=[assembler, mlp])\n",
    "\n",
    "# Measure the execution time for fitting the model\n",
    "start_time = time.time() \n",
    "\n",
    "# Fit the model\n",
    "model = pipeline.fit(train)\n",
    "\n",
    "# Make predictions\n",
    "predictions_mlp = model.transform(test)\n",
    "\n",
    "# Measure the time it took to fit the model and make predictions\n",
    "end_time = time.time()\n",
    "execution_time = end_time - start_time\n",
    "\n",
    "# Compute the confusion matrix\n",
    "confusion_matrix = predictions_mlp.groupBy('Diabetes_Index', 'prediction').count().orderBy('Diabetes_Index', 'prediction')\n",
    "\n",
    "# Show the confusion matrix\n",
    "print(\"Confusion Matrix:\")\n",
    "confusion_matrix.show()\n",
    "\n",
    "execution_times.append(execution_time)\n",
    "print(f\"Execution Time: {execution_time} seconds\")\n"
   ]
  },
  {
   "cell_type": "markdown",
   "id": "4e88d140-7c62-4ca5-8337-d5e163d24cfa",
   "metadata": {},
   "source": [
    "### Model Evaluation"
   ]
  },
  {
   "cell_type": "code",
   "execution_count": 39,
   "id": "fbaf84e8-6367-47c8-8dcb-9dfd54c98bb2",
   "metadata": {},
   "outputs": [
    {
     "name": "stdout",
     "output_type": "stream",
     "text": [
      "F1 Scores: [0.7194282773000713, 0.5562811385737868, 0.7120886412817475, 0.7141383227528244, 0.7159677760781009, 0.7051030707432226, 0.7160142641556073]\n",
      "Precisions: [0.7201771672164339, 0.6008723594262904, 0.7145923832010488, 0.716975503951605, 0.717656379551135, 0.7067915215172701, 0.7182641977776669]\n",
      "Recalls: [0.7198823903369358, 0.5758900190718372, 0.7132072472981563, 0.7153528289891926, 0.7167832167832167, 0.7059758423394786, 0.7170216147488875]\n"
     ]
    }
   ],
   "source": [
    "from pyspark.ml.evaluation import MulticlassClassificationEvaluator, BinaryClassificationEvaluator\n",
    "\n",
    "# Initialize evaluators\n",
    "binary_evaluator = BinaryClassificationEvaluator(labelCol='Diabetes_Index')\n",
    "precision_evaluator = MulticlassClassificationEvaluator(labelCol='Diabetes_Index', predictionCol='prediction', metricName='weightedPrecision')\n",
    "recall_evaluator = MulticlassClassificationEvaluator(labelCol='Diabetes_Index', predictionCol='prediction', metricName='weightedRecall')\n",
    "f1_evaluator = MulticlassClassificationEvaluator(labelCol='Diabetes_Index', predictionCol='prediction', metricName='f1')\n",
    "\n",
    "accuracies = []\n",
    "precisions = []\n",
    "recalls = []\n",
    "f1_scores = []\n",
    "\n",
    "# List of models and their predictions\n",
    "models_predictions = [\n",
    "    ('Logistic Regression', predictions_lr),\n",
    "    ('Naive Bayes', predictions_nb),\n",
    "    ('SVM', predictions_svm),\n",
    "    ('Random Forest', predictions_rf),\n",
    "    ('Gradient Boost', predictions_gb),\n",
    "    ('Decision Tree', predictions_dt),\n",
    "    ('MLP', predictions_mlp)\n",
    "]\n",
    "\n",
    "# Define a function to evaluate each model\n",
    "def evaluate_model(predictions):\n",
    "    accuracy = binary_evaluator.evaluate(predictions)\n",
    "    precision = precision_evaluator.evaluate(predictions)\n",
    "    recall = recall_evaluator.evaluate(predictions)\n",
    "    f1_score = f1_evaluator.evaluate(predictions)\n",
    "    \n",
    "    return accuracy, precision, recall, f1_score\n",
    "\n",
    "# Loop through each model and compute metrics\n",
    "for model_name, predictions in models_predictions:\n",
    "    accuracy, precision, recall, f1_score = evaluate_model(predictions)\n",
    "    accuracies.append(accuracy)\n",
    "    precisions.append(precision)\n",
    "    recalls.append(recall)\n",
    "    f1_scores.append(f1_score)\n",
    "\n",
    "print(f\"F1 Scores: {f1_scores}\")\n",
    "print(f\"Precisions: {precisions}\")\n",
    "print(f\"Recalls: {recalls}\")\n"
   ]
  },
  {
   "cell_type": "code",
   "execution_count": 40,
   "id": "4f7fb9e6-80fb-4a52-a03a-bb305911e3c3",
   "metadata": {},
   "outputs": [
    {
     "data": {
      "image/png": "[encoded data removed]",
      "text/plain": [
       "<Figure size 1000x600 with 1 Axes>"
      ]
     },
     "metadata": {},
     "output_type": "display_data"
    }
   ],
   "source": [
    "import matplotlib.pyplot as plt\n",
    "import numpy as np\n",
    "\n",
    "# Models\n",
    "models = ['Logistic Regression', 'Naive Bayes', 'SVM', 'Random Forest', 'Gradient Boost', 'Decision Tree', 'MLP']\n",
    "\n",
    "# Colors for each model, same as phase 2\n",
    "colors = ['#3357FF', '#33FF57', '#FF33A1', '#33FFF5', '#FFC300', '#DAF7A6', '#FF5733']\n",
    "model_scores = [score * 100 for score in accuracies]\n",
    "\n",
    "# Create a bar plot for accuracies\n",
    "plt.figure(figsize=(10, 6))\n",
    "bars = plt.bar(models, model_scores, color=colors)\n",
    "plt.xlabel('Models')\n",
    "plt.ylabel('Accuracy (%)')\n",
    "plt.title('Accuracy Comparison of Different Models')\n",
    "plt.xticks(rotation=45, ha=\"right\")\n",
    "plt.ylim(0, 100)\n",
    "for bar in bars:\n",
    "    plt.text(bar.get_x() + bar.get_width() / 2, bar.get_height(), f'{bar.get_height():.1f}%',ha='center', va='bottom')\n",
    "plt.tight_layout()\n",
    "plt.show()\n"
   ]
  },
  {
   "cell_type": "code",
   "execution_count": 41,
   "id": "552d131c-1466-4657-a8f6-b45ce0b46f6c",
   "metadata": {},
   "outputs": [
    {
     "data": {
      "image/png": "[encoded data removed]",
      "text/plain": [
       "<Figure size 1000x600 with 1 Axes>"
      ]
     },
     "metadata": {},
     "output_type": "display_data"
    }
   ],
   "source": [
    "import matplotlib.pyplot as plt\n",
    "import numpy as np\n",
    "\n",
    "# Models\n",
    "models = ['Logistic Regression', 'Naive Bayes', 'SVM', 'Random Forest', 'Gradient Boost', 'Decision Tree', 'MLP']\n",
    "\n",
    "# Colors for each model, same as phase 2\n",
    "colors = ['#3357FF', '#33FF57', '#FF33A1', '#33FFF5', '#FFC300', '#DAF7A6', '#FF5733']\n",
    "\n",
    "# Create a bar plot for accuracies\n",
    "plt.figure(figsize=(10, 6))\n",
    "bars = plt.bar(models, execution_times, color=colors)\n",
    "plt.xlabel('Models')\n",
    "plt.ylabel('Execution time in seconds')\n",
    "plt.title('Execution time Comparison of Different Models')\n",
    "plt.xticks(rotation=45, ha=\"right\")\n",
    "plt.ylim(0, 20)\n",
    "for bar in bars:\n",
    "    plt.text(bar.get_x() + bar.get_width() / 2, bar.get_height(), f'{bar.get_height():.1f}',\n",
    "             ha='center', va='bottom')\n",
    "plt.tight_layout()\n",
    "plt.show()\n"
   ]
  },
  {
   "cell_type": "code",
   "execution_count": 42,
   "id": "e641e09f-a7b7-49ae-88cf-203c22c4c3f7",
   "metadata": {},
   "outputs": [
    {
     "data": {
      "image/png": "[encoded data removed]",
      "text/plain": [
       "<Figure size 1000x600 with 1 Axes>"
      ]
     },
     "metadata": {},
     "output_type": "display_data"
    }
   ],
   "source": [
    "import matplotlib.pyplot as plt\n",
    "import numpy as np\n",
    "\n",
    "# Models and their performance metrics\n",
    "models = ['Logistic Regression', 'Naive Bayes', 'SVM', 'Random Forest', 'Gradient Boost', 'Decision Tree', 'MLP']\n",
    "\n",
    "# Ensure the metrics are multiplied by 100 for percentage representation\n",
    "f1_scores_100 = [score * 100 for score in f1_scores]\n",
    "recalls_100 = [score * 100 for score in recalls]\n",
    "precisions_100 = [score * 100 for score in precisions]\n",
    "\n",
    "# Create a line chart for F1 Score, Recall, and Precision\n",
    "plt.figure(figsize=(10, 6))\n",
    "\n",
    "# Plot the metrics\n",
    "colors = ['#FF5733', '#33FF57', '#3357FF']\n",
    "plt.plot(models, f1_scores_100, marker='o', label='F1 Score', color=colors[0])\n",
    "plt.plot(models, recalls_100, marker='o', label='Recall', color=colors[2])\n",
    "plt.plot(models, precisions_100, marker='o', label='Precision', color=colors[1])\n",
    "plt.xlabel('Models')\n",
    "plt.ylabel('Score (%)')\n",
    "plt.title('Comparison of F1 Score, Recall, and Precision')\n",
    "plt.ylim(50, 75)\n",
    "plt.legend(title='Metrics')\n",
    "plt.xticks(rotation=45, ha=\"right\")\n",
    "plt.tight_layout()\n",
    "plt.show()\n"
   ]
  },
  {
   "cell_type": "code",
   "execution_count": null,
   "id": "ab9dc9e0-f180-4f5e-a2cd-ec5a202765fa",
   "metadata": {},
   "outputs": [],
   "source": []
  }
 ],
 "metadata": {
  "kernelspec": {
   "display_name": "Python 3 (ipykernel)",
   "language": "python",
   "name": "python3"
  },
  "language_info": {
   "codemirror_mode": {
    "name": "ipython",
    "version": 3
   },
   "file_extension": ".py",
   "mimetype": "text/x-python",
   "name": "python",
   "nbconvert_exporter": "python",
   "pygments_lexer": "ipython3",
   "version": "3.12.3"
  }
 },
 "nbformat": 4,
 "nbformat_minor": 5
}
